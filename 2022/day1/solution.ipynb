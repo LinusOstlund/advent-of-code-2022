{
 "cells": [
  {
   "cell_type": "markdown",
   "metadata": {},
   "source": [
    "# Part 1"
   ]
  },
  {
   "cell_type": "markdown",
   "metadata": {},
   "source": [
    "I am doing the advent of code 2022. My best friend in the world is Carl Thomé. This is the description of the problem, on [this link](https://adventofcode.com/2022/day/1/).\n",
    "\n",
    "My idea is to have a solution that requires just one pass of the data, so $\\mathcal{O}(n)$."
   ]
  },
  {
   "cell_type": "code",
   "execution_count": 20,
   "metadata": {},
   "outputs": [],
   "source": [
    "def find_the_elf_with_most_calories(data):\n",
    "    \"\"\"\n",
    "    Find the elf with the most calories in the data.\n",
    "    Sum each sub-list and return the maximum.\n",
    "    \"\"\"\n",
    "    with open(data) as f:\n",
    "        max, tmp = 0, 0\n",
    "        for line in f:\n",
    "            if line.startswith('\\n'):\n",
    "                max = max if max > tmp else tmp\n",
    "                tmp = 0\n",
    "            else:\n",
    "                tmp += int(line)\n",
    "    return max"
   ]
  },
  {
   "cell_type": "markdown",
   "metadata": {},
   "source": [
    "And the solution is:"
   ]
  },
  {
   "cell_type": "code",
   "execution_count": 21,
   "metadata": {},
   "outputs": [
    {
     "data": {
      "text/plain": [
       "69206"
      ]
     },
     "execution_count": 21,
     "metadata": {},
     "output_type": "execute_result"
    }
   ],
   "source": [
    "data = 'data.txt'\n",
    "find_the_elf_with_most_calories(data)"
   ]
  },
  {
   "cell_type": "markdown",
   "metadata": {},
   "source": [
    "# Part 2"
   ]
  },
  {
   "cell_type": "markdown",
   "metadata": {},
   "source": [
    "Now I have to find the top three elves. Let's abandon effeciancy for a moment and try to solve the problem in a more readable way."
   ]
  },
  {
   "cell_type": "code",
   "execution_count": 27,
   "metadata": {},
   "outputs": [],
   "source": [
    "def get_elves_as_list(data):\n",
    "    \"\"\"\n",
    "    Return the elves and the calories they are carrying as a list of lists.\n",
    "    \"\"\"\n",
    "    elves, tmp = [], []\n",
    "    with open(data) as f:\n",
    "        for line in f:\n",
    "            if line.startswith('\\n'):\n",
    "                elves.append(tmp)\n",
    "                tmp = []\n",
    "            else:\n",
    "                tmp.append(int(line))\n",
    "    return elves"
   ]
  },
  {
   "cell_type": "markdown",
   "metadata": {},
   "source": [
    "Now we can do som pythonesque magic to get the top three elves."
   ]
  },
  {
   "cell_type": "code",
   "execution_count": 37,
   "metadata": {},
   "outputs": [
    {
     "data": {
      "text/plain": [
       "197400"
      ]
     },
     "execution_count": 37,
     "metadata": {},
     "output_type": "execute_result"
    }
   ],
   "source": [
    "# for readability, right?\n",
    "sum(sorted(list(map(sum, get_elves_as_list(data))))[-3:])"
   ]
  }
 ],
 "metadata": {
  "kernelspec": {
   "display_name": "Python 3.8.9 64-bit",
   "language": "python",
   "name": "python3"
  },
  "language_info": {
   "codemirror_mode": {
    "name": "ipython",
    "version": 3
   },
   "file_extension": ".py",
   "mimetype": "text/x-python",
   "name": "python",
   "nbconvert_exporter": "python",
   "pygments_lexer": "ipython3",
   "version": "3.8.9"
  },
  "orig_nbformat": 4,
  "vscode": {
   "interpreter": {
    "hash": "31f2aee4e71d21fbe5cf8b01ff0e069b9275f58929596ceb00d14d90e3e16cd6"
   }
  }
 },
 "nbformat": 4,
 "nbformat_minor": 2
}
