{
 "cells": [
  {
   "cell_type": "markdown",
   "metadata": {},
   "source": [
    "# Day 2\n",
    "\n",
    "Now there is somekind of rock-scicors-paper game going on. The rules are obscure. I am going to map each hand (rock, paper, scissors) with a dictionary. Then I make one pass through the algorithm to keep it extremely efficient.\n",
    "\n",
    "> The score for a single round is the score for the shape you selected (1 for Rock, 2 for Paper, and 3 for Scissors) plus the score for the outcome of the round (0 if you lost, 3 if the round was a draw, and 6 if you won)."
   ]
  },
  {
   "cell_type": "code",
   "execution_count": 18,
   "metadata": {},
   "outputs": [],
   "source": [
    "def outcome(round):\n",
    "    \"\"\"\n",
    "    I am quite sure this is a poor method of choice :) \n",
    "    \"\"\"\n",
    "    if round == (1, 1): \n",
    "        return 0\n",
    "    elif round == (1, 3): \n",
    "        return -1\n",
    "    elif round == (1, 2): \n",
    "        return 1\n",
    "    elif round == (2, 1): \n",
    "        return -1\n",
    "    elif round == (2, 2): \n",
    "        return 0\n",
    "    elif round == (2, 3): \n",
    "        return 1\n",
    "    elif round == (3, 1): \n",
    "        return 1\n",
    "    elif round == (3, 2): \n",
    "        return -1\n",
    "    elif round == (3, 3): \n",
    "        return 0"
   ]
  },
  {
   "cell_type": "markdown",
   "metadata": {},
   "source": [
    "Here is the $\\mathcal{O}(n)$ algorithm I promised earlier."
   ]
  },
  {
   "cell_type": "code",
   "execution_count": 21,
   "metadata": {},
   "outputs": [],
   "source": [
    "def find_my_total_score(data):\n",
    "    \"\"\"\n",
    "    One pass, extremely efficent solution, the most efficent solution, I make the best solutions\n",
    "    \"\"\"\n",
    "    with open(data) as f:\n",
    "        hands = {'A': 1, 'B': 2, 'C': 3, 'X': 1, 'Y': 2, 'Z': 3}\n",
    "        WIN, DRAW = 6, 3\n",
    "        score = 0\n",
    "        for line in f:\n",
    "            his_hand, my_hand = line.split()\n",
    "            curr_round= (hands[his_hand], hands[my_hand])\n",
    "            if outcome(curr_round) > 0:\n",
    "                # win!\n",
    "                score += WIN + hands[my_hand]\n",
    "            elif outcome(curr_round) < 0:\n",
    "                # lost :(\n",
    "                score += hands[my_hand]\n",
    "            else:\n",
    "                # draw -_-\n",
    "                score += DRAW + hands[my_hand]\n",
    "    return score\n"
   ]
  },
  {
   "cell_type": "markdown",
   "metadata": {},
   "source": [
    "And the correct answer is:"
   ]
  },
  {
   "cell_type": "code",
   "execution_count": 22,
   "metadata": {},
   "outputs": [
    {
     "data": {
      "text/plain": [
       "14264"
      ]
     },
     "execution_count": 22,
     "metadata": {},
     "output_type": "execute_result"
    }
   ],
   "source": [
    "data = 'data.txt'\n",
    "find_my_total_score(data)"
   ]
  },
  {
   "cell_type": "markdown",
   "metadata": {},
   "source": [
    "# Part 2\n",
    "\n",
    "Extremely difficult, but I think I'll manage.\n",
    "\n",
    "> X means you need to lose, Y means you need to end the round in a draw, and Z means you need to win. Good luck!\"\n",
    "\n",
    "So I'll define some helper methods, and then change the 'my_hand' variable to 'strategy', and let the methods find a way."
   ]
  },
  {
   "cell_type": "code",
   "execution_count": 23,
   "metadata": {},
   "outputs": [],
   "source": [
    "def pick_hand(his_hand, strategy):\n",
    "    if strategy == 'X':\n",
    "        return losing_hand(his_hand)\n",
    "    elif strategy == 'Y':\n",
    "        return his_hand\n",
    "    else:\n",
    "        return winning_hand(his_hand)\n",
    "\n",
    "def winning_hand(his_hand):\n",
    "    if his_hand == 'A':\n",
    "        return 'B'\n",
    "    elif his_hand == 'B':\n",
    "        return 'C'\n",
    "    else:\n",
    "        return 'A'\n",
    "\n",
    "def losing_hand(his_hand):\n",
    "    if his_hand == 'A':\n",
    "        return 'C'\n",
    "    elif his_hand == 'B':\n",
    "        return 'A'\n",
    "    else:\n",
    "        return 'B'"
   ]
  },
  {
   "cell_type": "markdown",
   "metadata": {},
   "source": [
    "Now I just copy-paste the earlier method and make a small modification. Lazy? Yes. A source of technical debt? Yes. Extremely efficeint? Also yes."
   ]
  },
  {
   "cell_type": "code",
   "execution_count": 27,
   "metadata": {},
   "outputs": [],
   "source": [
    "def find_my_total_score_part_2(data):\n",
    "    with open(data) as f:\n",
    "        hands = {'A': 1, 'B': 2, 'C': 3, 'X': 1, 'Y': 2, 'Z': 3}\n",
    "        WIN, DRAW = 6, 3\n",
    "        score = 0\n",
    "        for line in f:\n",
    "            # NOTE here are the changes\n",
    "            his_hand, strategy = line.split()\n",
    "            my_hand = pick_hand(his_hand, strategy) # <-- \"strategy\" is the new variable\n",
    "            # from here on it is exactly the same as part 1\n",
    "            curr_round= (hands[his_hand], hands[my_hand])\n",
    "            if outcome(curr_round) > 0:\n",
    "                # win!\n",
    "                score += WIN + hands[my_hand]\n",
    "            elif outcome(curr_round) < 0:\n",
    "                # lost :(\n",
    "                score += hands[my_hand]\n",
    "            else:\n",
    "                # draw -_-\n",
    "                score += DRAW + hands[my_hand]\n",
    "    return score"
   ]
  },
  {
   "cell_type": "markdown",
   "metadata": {},
   "source": [
    "I hereby give you the correct answer to part 2:"
   ]
  },
  {
   "cell_type": "code",
   "execution_count": 26,
   "metadata": {},
   "outputs": [
    {
     "data": {
      "text/plain": [
       "12382"
      ]
     },
     "execution_count": 26,
     "metadata": {},
     "output_type": "execute_result"
    }
   ],
   "source": [
    "find_my_total_score_part_2(data)"
   ]
  }
 ],
 "metadata": {
  "kernelspec": {
   "display_name": "Python 3.9.12 ('base')",
   "language": "python",
   "name": "python3"
  },
  "language_info": {
   "codemirror_mode": {
    "name": "ipython",
    "version": 3
   },
   "file_extension": ".py",
   "mimetype": "text/x-python",
   "name": "python",
   "nbconvert_exporter": "python",
   "pygments_lexer": "ipython3",
   "version": "3.9.12"
  },
  "orig_nbformat": 4,
  "vscode": {
   "interpreter": {
    "hash": "c4200fda7ae0bf3cda7b10749c5e0fe119cbdfd5a55ffd50b4380f0cc79b68b0"
   }
  }
 },
 "nbformat": 4,
 "nbformat_minor": 2
}
