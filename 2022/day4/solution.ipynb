{
 "cells": [
  {
   "cell_type": "markdown",
   "metadata": {},
   "source": [
    "# Part 1\n",
    "Contains? Help."
   ]
  },
  {
   "cell_type": "code",
   "execution_count": 70,
   "metadata": {},
   "outputs": [
    {
     "data": {
      "text/plain": [
       "496"
      ]
     },
     "execution_count": 70,
     "metadata": {},
     "output_type": "execute_result"
    }
   ],
   "source": [
    "import csv\n",
    "import numpy as np\n",
    "\n",
    "number_of_fully_contained = 0\n",
    "\n",
    "def fully_contains(boundary1, boundary2):\n",
    "    return int(boundary1[0]) <= int(boundary2[0]) and int(boundary1[1]) >= int(boundary2[1])\n",
    "\n",
    "def sub(tpl):\n",
    "    return tpl[0] - tpl[1]\n",
    "\n",
    "with open('data.txt') as f:\n",
    "    reader = csv.reader(f)\n",
    "    data = [row for row in reader]\n",
    "    for pair in data:\n",
    "        # split the ['x'-'y'] input to two integers\n",
    "        assignments = [list(map(int, elf.split('-'))) for elf in pair]\n",
    "        # find the difference of each left and right boundary\n",
    "        diff = list(map(sub, zip(*assignments)))\n",
    "        # in order to contain the other, either have different signs or both are zero\n",
    "        if np.sign(diff[0]) != np.sign(diff[1]):\n",
    "            number_of_fully_contained += 1\n",
    "        elif np.sign(diff[0]) == 0 and np.sign(diff[1]) == 0:\n",
    "            number_of_fully_contained += 1\n",
    "\n",
    "number_of_fully_contained"
   ]
  },
  {
   "cell_type": "markdown",
   "metadata": {},
   "source": [
    "# Part 2\n",
    "\n",
    "I just speedy demoned this."
   ]
  },
  {
   "cell_type": "code",
   "execution_count": 69,
   "metadata": {},
   "outputs": [
    {
     "data": {
      "text/plain": [
       "847"
      ]
     },
     "execution_count": 69,
     "metadata": {},
     "output_type": "execute_result"
    }
   ],
   "source": [
    "import csv\n",
    "import numpy as np\n",
    "\n",
    "number_of_overlap = 0\n",
    "\n",
    "def fully_contains(boundary1, boundary2):\n",
    "    return int(boundary1[0]) <= int(boundary2[0]) and int(boundary1[1]) >= int(boundary2[1])\n",
    "\n",
    "def sub(tpl):\n",
    "    return tpl[0] - tpl[1]\n",
    "\n",
    "with open('data.txt') as f:\n",
    "    reader = csv.reader(f)\n",
    "    data = [row for row in reader]\n",
    "    for pair in data:\n",
    "        assignments = [list(map(int, elf.split('-'))) for elf in pair]\n",
    "        # Three cases:\n",
    "        # 1. if the left boundary of the first is less than the right boundary of the second\n",
    "        if assignments[0][0] > assignments[1][1]:\n",
    "            continue\n",
    "        # 2. if the right boundary of the first is greater than the left boundary of the second\n",
    "        elif assignments[1][0] > assignments[0][1]:\n",
    "            continue\n",
    "        # 3. otherwise, there is an overlap\n",
    "        else:\n",
    "            number_of_overlap += 1\n",
    "\n",
    "number_of_overlap"
   ]
  }
 ],
 "metadata": {
  "kernelspec": {
   "display_name": "Python 3.8.9 64-bit",
   "language": "python",
   "name": "python3"
  },
  "language_info": {
   "codemirror_mode": {
    "name": "ipython",
    "version": 3
   },
   "file_extension": ".py",
   "mimetype": "text/x-python",
   "name": "python",
   "nbconvert_exporter": "python",
   "pygments_lexer": "ipython3",
   "version": "3.8.9"
  },
  "orig_nbformat": 4,
  "vscode": {
   "interpreter": {
    "hash": "31f2aee4e71d21fbe5cf8b01ff0e069b9275f58929596ceb00d14d90e3e16cd6"
   }
  }
 },
 "nbformat": 4,
 "nbformat_minor": 2
}
