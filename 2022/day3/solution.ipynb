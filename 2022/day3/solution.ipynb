{
 "cells": [
  {
   "cell_type": "markdown",
   "metadata": {},
   "source": [
    "# Part 1\n",
    "\n",
    "The rucksack challenge. I don't really understand, but I'll try to understand although I don't understand."
   ]
  },
  {
   "cell_type": "markdown",
   "metadata": {},
   "source": [
    "> To help prioritize item rearrangement, every item type can be converted to a priority:\n",
    "\n",
    "> Lowercase item types a through z have priorities 1 through 26.\n",
    "> Uppercase item types A through Z have priorities 27 through 52.\n",
    "> In the above example, the priority of the item type that appears in both compartments of each rucksack is 16 (p), 38 (L), 42 (P), 22 (v), 20 (t), and 19 (s); the sum of these is 157.\n",
    "\n",
    "I test some functions out down below in order to solve this extremely difficult problem."
   ]
  },
  {
   "cell_type": "code",
   "execution_count": 28,
   "metadata": {},
   "outputs": [
    {
     "name": "stdout",
     "output_type": "stream",
     "text": [
      "1\n",
      "26\n"
     ]
    }
   ],
   "source": [
    "# use ord() to find the ASCII value\n",
    "print(ord('a') % 96)\n",
    "print(ord('z') % 96)\n"
   ]
  },
  {
   "cell_type": "code",
   "execution_count": 100,
   "metadata": {},
   "outputs": [
    {
     "name": "stdout",
     "output_type": "stream",
     "text": [
      "27\n",
      "52\n"
     ]
    }
   ],
   "source": [
    "# same as above, but with an offset\n",
    "print((ord('A') % (64)) + 26)\n",
    "print((ord('Z') % (64)) + 26)"
   ]
  },
  {
   "cell_type": "code",
   "execution_count": 99,
   "metadata": {},
   "outputs": [
    {
     "data": {
      "text/plain": [
       "'a'"
      ]
     },
     "execution_count": 99,
     "metadata": {},
     "output_type": "execute_result"
    }
   ],
   "source": [
    "# how to pack and unpack a character in a set\n",
    "A = set('a')\n",
    "str(*A)"
   ]
  },
  {
   "cell_type": "code",
   "execution_count": 95,
   "metadata": {},
   "outputs": [
    {
     "data": {
      "text/plain": [
       "6600"
      ]
     },
     "execution_count": 95,
     "metadata": {},
     "output_type": "execute_result"
    }
   ],
   "source": [
    "sum = 0\n",
    "\n",
    "with open('data.txt') as f:\n",
    "    for i, elf1 in enumerate(f):\n",
    "        line = line.replace('\\n', '')\n",
    "        middle = len(line) // 2\n",
    "        c1, c2 = set(line[:middle]), set(line[middle:])\n",
    "        # it's just one item by input design :-)\n",
    "        for item in (c1 & c2): # TODO: use (*) to unpack set\n",
    "            if item.isupper():\n",
    "                # if item is uppercase, set a proper offset\n",
    "                priority = ord(item) % 64 + 26\n",
    "            else:\n",
    "                # same if item is lowercase\n",
    "                priority = ord(item) % 96\n",
    "            sum += priority\n",
    "        \n",
    "sum"
   ]
  },
  {
   "cell_type": "markdown",
   "metadata": {},
   "source": [
    "# Part 2\n",
    "\n",
    "I am stressed and lost my position on the private leaderboard, now I go all in and try to get the 1st place."
   ]
  },
  {
   "cell_type": "code",
   "execution_count": 101,
   "metadata": {},
   "outputs": [
    {
     "data": {
      "text/plain": [
       "2342"
      ]
     },
     "execution_count": 101,
     "metadata": {},
     "output_type": "execute_result"
    }
   ],
   "source": [
    "sum = 0\n",
    "\n",
    "with open('data.txt', 'r') as f:\n",
    "    # save all elves in a nice little list\n",
    "    elves = [set(elf.replace('\\n', '')) for elf in f]\n",
    "    for i in range(0, len(elves), 3):\n",
    "        # iterate each group at a time\n",
    "        group = elves[i:i+3]\n",
    "        # according to the input, there is always one item in the intersection\n",
    "        badge = set.intersection(*group)\n",
    "        # unwrap the set\n",
    "        badge = str(*badge)\n",
    "        # calculate the priority\n",
    "        if badge.isupper():\n",
    "            # if item is uppercase, set a proper offset\n",
    "            priority = ord(badge) % 64 + 26\n",
    "        else:\n",
    "            # same if item is lowercase\n",
    "            priority = ord(badge) % 96\n",
    "        # sigma sum\n",
    "        sum += priority\n",
    "\n",
    "sum\n",
    "    "
   ]
  }
 ],
 "metadata": {
  "kernelspec": {
   "display_name": "Python 3.8.9 64-bit",
   "language": "python",
   "name": "python3"
  },
  "language_info": {
   "codemirror_mode": {
    "name": "ipython",
    "version": 3
   },
   "file_extension": ".py",
   "mimetype": "text/x-python",
   "name": "python",
   "nbconvert_exporter": "python",
   "pygments_lexer": "ipython3",
   "version": "3.8.9"
  },
  "orig_nbformat": 4,
  "vscode": {
   "interpreter": {
    "hash": "31f2aee4e71d21fbe5cf8b01ff0e069b9275f58929596ceb00d14d90e3e16cd6"
   }
  }
 },
 "nbformat": 4,
 "nbformat_minor": 2
}
