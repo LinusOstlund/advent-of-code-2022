{
 "cells": [
  {
   "cell_type": "markdown",
   "metadata": {},
   "source": [
    "# Day 5 -- Stack mayhem\n",
    "\n",
    "So there are stacks and there are move orderings. I have abandoned the idea of code quality, and just push through."
   ]
  },
  {
   "cell_type": "code",
   "execution_count": 67,
   "metadata": {},
   "outputs": [],
   "source": [
    "stacks = dict()\n",
    "\n",
    "with open('data.txt') as f:\n",
    "    # first I read the crate matrix\n",
    "    data = f.read().splitlines()\n",
    "    # save the index in order to navigate the latter data\n",
    "    idx = 0\n",
    "    for i in range(len(data)):\n",
    "        idx += 1\n",
    "        if data[i] == '':\n",
    "            # matrix is read!\n",
    "            break\n",
    "        tmp = list(data[i])\n",
    "        for j, char in enumerate(tmp):\n",
    "            if char not in {' ', '[', ']'}:\n",
    "                # safety check\n",
    "                if j not in stacks:\n",
    "                    stacks[j] = []\n",
    "                stacks[j].append(char)\n",
    "    # now I have to update stacks, so that the last element read (which is the box index) is the value\n",
    "    # also reverse list to make it fit the problem\n",
    "    stacks = {int(v[-1]): list(reversed(v[:-1])) for k, v in stacks.items()}\n",
    "    # now I read all the orders, where idx comes in handy\n",
    "    for order in data[idx:]:\n",
    "        # input format \"move 2 from 2 to 8\"\n",
    "        order = order.split()\n",
    "        amount, source, target = int(order[1]), int(order[3]), int(order[5])\n",
    "        #### Part 1 ####\n",
    "        #for _ in range(amount):\n",
    "            # stacks[target].append(stacks[source].pop())\n",
    "        #### Part 2 ####\n",
    "        stacks[target] += stacks[source][len(stacks[source])-amount:]\n",
    "        del stacks[source][len(stacks[source])-amount:]\n"
   ]
  },
  {
   "cell_type": "markdown",
   "metadata": {},
   "source": [
    "Can it be more pretty? I guess not. As I am only interested in the top crate, I'll make a list of the crates and sort them by their index. This code is the same for both parts."
   ]
  },
  {
   "cell_type": "code",
   "execution_count": null,
   "metadata": {},
   "outputs": [],
   "source": [
    "final_word = [(k, v[-1]) for k, v in stacks.items()]"
   ]
  },
  {
   "cell_type": "markdown",
   "metadata": {},
   "source": [
    "Reading my solution, I feel it is very nice. I'll pick a good variable name for the grande finale."
   ]
  },
  {
   "cell_type": "code",
   "execution_count": 66,
   "metadata": {},
   "outputs": [
    {
     "data": {
      "text/plain": [
       "'WJVRLSJJT'"
      ]
     },
     "execution_count": 66,
     "metadata": {},
     "output_type": "execute_result"
    }
   ],
   "source": [
    "hi_its_me_im_the_problem_its_me = ''\n",
    "for x, y in sorted(final_word):\n",
    "    hi_its_me_im_the_problem_its_me += y\n",
    "\n",
    "hi_its_me_im_the_problem_its_me"
   ]
  }
 ],
 "metadata": {
  "kernelspec": {
   "display_name": "Python 3.8.9 64-bit",
   "language": "python",
   "name": "python3"
  },
  "language_info": {
   "codemirror_mode": {
    "name": "ipython",
    "version": 3
   },
   "file_extension": ".py",
   "mimetype": "text/x-python",
   "name": "python",
   "nbconvert_exporter": "python",
   "pygments_lexer": "ipython3",
   "version": "3.8.9"
  },
  "orig_nbformat": 4,
  "vscode": {
   "interpreter": {
    "hash": "31f2aee4e71d21fbe5cf8b01ff0e069b9275f58929596ceb00d14d90e3e16cd6"
   }
  }
 },
 "nbformat": 4,
 "nbformat_minor": 2
}
